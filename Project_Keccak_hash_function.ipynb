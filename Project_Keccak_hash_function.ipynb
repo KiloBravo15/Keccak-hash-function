{
 "cells": [
  {
   "cell_type": "markdown",
   "id": "004eb0d3-56bd-409e-9b19-7b629014eedb",
   "metadata": {},
   "source": [
    "# Project: Keccak hash function\n",
    "Implement a Keccak hash function - as an example of a sponge structure and analyze its security.\n",
    "\n",
    "<div style=\"text-align: right\">\n",
    "Karolina Buchnat<br>\n",
    "Aleksander Malcew\n",
    "</div>"
   ]
  },
  {
   "cell_type": "markdown",
   "id": "6f9f480b-a6e0-4114-8c2f-721440f21310",
   "metadata": {},
   "source": [
    "## State initialization"
   ]
  },
  {
   "cell_type": "code",
   "execution_count": 51,
   "id": "e529d720-660d-4f29-b3cf-dd913d0b3849",
   "metadata": {},
   "outputs": [
    {
     "name": "stdout",
     "output_type": "stream",
     "text": [
      "State shape: (5, 5, 64)\n",
      "State data type: uint8\n",
      "State array:\n",
      " [[[0 0 0 ... 0 0 0]\n",
      "  [0 0 0 ... 0 0 0]\n",
      "  [0 0 0 ... 0 0 0]\n",
      "  [0 0 0 ... 0 0 0]\n",
      "  [0 0 0 ... 0 0 0]]\n",
      "\n",
      " [[0 0 0 ... 0 0 0]\n",
      "  [0 0 0 ... 0 0 0]\n",
      "  [0 0 0 ... 0 0 0]\n",
      "  [0 0 0 ... 0 0 0]\n",
      "  [0 0 0 ... 0 0 0]]\n",
      "\n",
      " [[0 0 0 ... 0 0 0]\n",
      "  [0 0 0 ... 0 0 0]\n",
      "  [0 0 0 ... 0 0 0]\n",
      "  [0 0 0 ... 0 0 0]\n",
      "  [0 0 0 ... 0 0 0]]\n",
      "\n",
      " [[0 0 0 ... 0 0 0]\n",
      "  [0 0 0 ... 0 0 0]\n",
      "  [0 0 0 ... 0 0 0]\n",
      "  [0 0 0 ... 0 0 0]\n",
      "  [0 0 0 ... 0 0 0]]\n",
      "\n",
      " [[0 0 0 ... 0 0 0]\n",
      "  [0 0 0 ... 0 0 0]\n",
      "  [0 0 0 ... 0 0 0]\n",
      "  [0 0 0 ... 0 0 0]\n",
      "  [0 0 0 ... 0 0 0]]]\n"
     ]
    }
   ],
   "source": [
    "import numpy as np\n",
    "\n",
    "def initialize_state():\n",
    "    \"\"\"\n",
    "    Initializes an empty Keccak state.\n",
    "    \n",
    "    Keccak uses a state consisting of 5x5x64 bits, totaling 1600 bits.\n",
    "    This function initializes the state as a three-dimensional array filled with zeros.\n",
    "    \n",
    "    Returns:\n",
    "        numpy.ndarray: A 5x5x64 array representing the initial state of Keccak, filled with zeros.\n",
    "    \"\"\"\n",
    "    state = np.zeros((5, 5, 64), dtype=np.uint8)\n",
    "    return state\n",
    "\n",
    "# Initialize the state\n",
    "state = initialize_state()\n",
    "print(\"State shape:\", state.shape)\n",
    "print(\"State data type:\", state.dtype)\n",
    "print(\"State array:\\n\", state)\n"
   ]
  },
  {
   "cell_type": "markdown",
   "id": "f5d05b5d-ff9d-41e6-97a4-11204e41da15",
   "metadata": {},
   "source": [
    "## Padding"
   ]
  },
  {
   "cell_type": "code",
   "execution_count": 55,
   "id": "3fba1f98-75c6-4998-811e-d6f07e76d657",
   "metadata": {},
   "outputs": [
    {
     "name": "stdout",
     "output_type": "stream",
     "text": [
      "Padding for a message of length 1024 bits and bitrate 1088 is: [1, 0, 0, 0, 0, 0, 0, 0, 0, 0]... (first 10 bits)\n",
      "Padding length: 64 bits\n"
     ]
    }
   ],
   "source": [
    "def pad10star1(x, m):\n",
    "    \"\"\"\n",
    "    Implements the pad10*1 padding function operating on binary values.\n",
    "\n",
    "    This function applies the pad10*1 padding rule, which is used to extend the message so that\n",
    "    its length (in bits) plus the length of the padding is a positive multiple of the bitrate x.\n",
    "    \n",
    "    The padding consists of a '1' bit, followed by a number of '0' bits, and ends with a '1' bit.\n",
    "    \n",
    "    Parameters:\n",
    "        x (int): A positive integer representing the bitrate (r) of the Keccak algorithm.\n",
    "        m (int): A non-negative integer indicating the length of the message in bits.\n",
    "    \n",
    "    Returns:\n",
    "        list: A list of bits representing the padding P, such that the length of m + len(P) is a positive multiple of x.\n",
    "    \"\"\"\n",
    "    j = (-m - 2) % x\n",
    "    P = [1] + [0] * j + [1]\n",
    "    \n",
    "    return P\n",
    "\n",
    "# Example usage\n",
    "x = 1088  # Example bitrate for SHA3-256\n",
    "m = 1024  # Example message length in bits\n",
    "\n",
    "padding = pad10star1(x, m)\n",
    "print(f\"Padding for a message of length {m} bits and bitrate {x} is: {padding[:10]}... (first 10 bits)\")\n",
    "print(f\"Padding length: {len(padding)} bits\")\n"
   ]
  },
  {
   "cell_type": "markdown",
   "id": "adc51569-7769-4a80-94ce-7900cd5f218f",
   "metadata": {},
   "source": [
    "## Step mapping"
   ]
  },
  {
   "cell_type": "markdown",
   "id": "c0a3adeb-e7d6-420f-acc1-3cbaaffd5848",
   "metadata": {},
   "source": [
    "### Theta (θ)"
   ]
  },
  {
   "cell_type": "code",
   "execution_count": 56,
   "id": "0074e532-52db-4491-b284-5ddf0122d79e",
   "metadata": {},
   "outputs": [],
   "source": [
    "def theta(A):\n",
    "    \"\"\"\n",
    "    Performs the Theta step of the Keccak permutation.\n",
    "\n",
    "    The Theta step is one of the five step mappings in the Keccak-f permutation.\n",
    "    It operates on the state array A and mixes the bits across the five lanes in each of the 64-bit words.\n",
    "\n",
    "    Parameters:\n",
    "        A (numpy.ndarray): The current state of the Keccak algorithm, a 5x5x64 array of bits represented as 64-bit words.\n",
    "    \n",
    "    Returns:\n",
    "        numpy.ndarray: The updated state array after applying the Theta step.\n",
    "    \"\"\"\n",
    "    w = 64  # Word size for Keccak-f[1600]\n",
    "    C = np.zeros((5, w), dtype=np.uint64)  # Intermediate array C\n",
    "    D = np.zeros((5, w), dtype=np.uint64)  # Intermediate array D\n",
    "    \n",
    "    # Processing is done on bits, but using NumPy, we operate on 64-bit words\n",
    "    for x in range(5):\n",
    "        # XOR of all the bits in the lanes\n",
    "        C[x, :] = A[x, 0, :] ^ A[x, 1, :] ^ A[x, 2, :] ^ A[x, 3, :] ^ A[x, 4, :]\n",
    "    \n",
    "    for x in range(5):\n",
    "        # Calculate the D array based on C\n",
    "        D[x, :] = C[(x-1) % 5, :] ^ np.roll(C[(x+1) % 5, :], -1)\n",
    "    \n",
    "    for x in range(5):\n",
    "        for y in range(5):\n",
    "            # Apply the D array to the state A\n",
    "            A[x, y, :] ^= D[x, :]\n",
    "    \n",
    "    return A\n"
   ]
  },
  {
   "cell_type": "markdown",
   "id": "6d3d184a-edd6-4c7c-b28a-08beb033d44c",
   "metadata": {},
   "source": [
    "### Rho (ρ)"
   ]
  },
  {
   "cell_type": "code",
   "execution_count": 57,
   "id": "e5acbb6e-535a-4d49-acf1-f5d2cffce090",
   "metadata": {},
   "outputs": [],
   "source": [
    "def rho(A):\n",
    "    \"\"\"\n",
    "    Performs the Rho step of the Keccak permutation.\n",
    "    \n",
    "    The Rho step is responsible for bit-wise rotations within the lanes of the state array.\n",
    "    Each lane is rotated by an offset specific to its position (x, y) in the state array.\n",
    "    \n",
    "    Parameters:\n",
    "        A (numpy.ndarray): The current state of the Keccak algorithm, a 5x5x64 array of bits.\n",
    "    \n",
    "    Returns:\n",
    "        numpy.ndarray: The updated state array after applying the Rho step.\n",
    "    \"\"\"\n",
    "    w = 64  # Word size for Keccak-f[1600]\n",
    "    # Initialize A' (A_prime) as a copy of A\n",
    "    A_prime = np.copy(A)\n",
    "    \n",
    "    # Step 1: A'[0, 0, z] = A[0, 0, z]\n",
    "    # (this operation is already done by initializing A_prime as a copy of A)\n",
    "    \n",
    "    # Step 2: Set the initial values (x, y)\n",
    "    x, y = 1, 0\n",
    "    \n",
    "    # Offset table for the Rho function, according to the specification table\n",
    "    offsets = [\n",
    "        [0, 36, 3, 41, 18],\n",
    "        [1, 44, 10, 45, 2],\n",
    "        [62, 6, 43, 15, 61],\n",
    "        [28, 55, 25, 21, 56],\n",
    "        [27, 20, 39, 8, 14]\n",
    "    ]\n",
    "    \n",
    "    # Step 3: Perform rotation for each t from 0 to 23\n",
    "    for t in range(24):\n",
    "        # Step 3a: Rotate bits\n",
    "        offset = offsets[x][y]\n",
    "        A_prime[x, y] = np.roll(A[x, y], -offset)\n",
    "        \n",
    "        # Step 3b: Calculate new values (x, y)\n",
    "        x, y = y, (2 * x + 3 * y) % 5\n",
    "    \n",
    "    return A_prime\n"
   ]
  },
  {
   "cell_type": "markdown",
   "id": "ea727fb7-6629-46fc-9a83-0e21a3455020",
   "metadata": {},
   "source": [
    "### Pi (π)"
   ]
  },
  {
   "cell_type": "code",
   "execution_count": 59,
   "id": "ffa8e414-e513-4f13-8b54-fbbcc37b4a78",
   "metadata": {},
   "outputs": [],
   "source": [
    "def pi(A):\n",
    "    \"\"\"\n",
    "    Performs the Pi step of the Keccak permutation.\n",
    "\n",
    "    The Pi step rearranges the positions of the lanes in the state array. It is a permutation \n",
    "    that transposes the axes of the array to ensure diffusion of the state bits across the array.\n",
    "    \n",
    "    Parameters:\n",
    "        A (numpy.ndarray): The current state of the Keccak algorithm, a 5x5x64 array of bits.\n",
    "    \n",
    "    Returns:\n",
    "        numpy.ndarray: The updated state array after applying the Pi step.\n",
    "    \"\"\"\n",
    "    # Word size in Keccak, w = 64 for Keccak-f[1600]\n",
    "    w = 64\n",
    "    # Initialize A' (A_prime) as an empty array with the same dimensions as A\n",
    "    A_prime = np.zeros_like(A)\n",
    "    \n",
    "    # Processing according to the specification of the Pi function\n",
    "    for x in range(5):\n",
    "        for y in range(5):\n",
    "            for z in range(w):\n",
    "                newX = (x + 3 * y) % 5\n",
    "                newY = x\n",
    "                A_prime[newX, newY, z] = A[x, y, z]\n",
    "    \n",
    "    return A_prime\n"
   ]
  },
  {
   "cell_type": "markdown",
   "id": "ab4f62f7-688b-4819-b2d9-9f2092d6c21f",
   "metadata": {},
   "source": [
    "### Chi (χ)"
   ]
  },
  {
   "cell_type": "code",
   "execution_count": 60,
   "id": "861cb3cf-a467-42d1-8e95-91129c063cff",
   "metadata": {},
   "outputs": [],
   "source": [
    "def chi(A):\n",
    "    \"\"\"\n",
    "    Performs the Chi step of the Keccak permutation.\n",
    "\n",
    "    The Chi step is a non-linear step that operates on each row of the state array independently.\n",
    "    It combines each bit with two other bits in the same row, using a bitwise XOR and AND operations,\n",
    "    to contribute to the confusion aspect of the cipher.\n",
    "\n",
    "    Parameters:\n",
    "        A (numpy.ndarray): The current state of the Keccak algorithm, a 5x5x64 array of bits.\n",
    "    \n",
    "    Returns:\n",
    "        numpy.ndarray: The updated state array after applying the Chi step.\n",
    "    \"\"\"\n",
    "    # Word size in Keccak, w = 64 for Keccak-f[1600]\n",
    "    w = 64\n",
    "    # Initialize A' (A_prime) as an empty array with the same dimensions as A\n",
    "    A_prime = np.zeros_like(A)\n",
    "    \n",
    "    # Processing according to the specification of the Chi function\n",
    "    for x in range(5):\n",
    "        for y in range(5):\n",
    "            for z in range(w):\n",
    "                # For each bit, apply the Chi transformation\n",
    "                A_prime[x, y, z] = A[x, y, z] ^ ((A[(x+1) % 5, y, z] ^ 1) & A[(x+2) % 5, y, z])\n",
    "    \n",
    "    return A_prime\n"
   ]
  },
  {
   "cell_type": "markdown",
   "id": "0e90e29f-3497-4410-97e0-15ac5ff88b3e",
   "metadata": {},
   "source": [
    "### Iota (ι)"
   ]
  },
  {
   "cell_type": "code",
   "execution_count": 62,
   "id": "20405795-f29b-4a50-8d96-3f56be5141ee",
   "metadata": {},
   "outputs": [],
   "source": [
    "from math import log2\n",
    "\n",
    "def rc(t):\n",
    "    \"\"\"\n",
    "    Computes the round constant for the Iota step in the Keccak algorithm.\n",
    "\n",
    "    This function is based on a linear feedback shift register (LFSR) to generate\n",
    "    a sequence of bits that are used as round constants in the Iota step of the Keccak permutation.\n",
    "\n",
    "    Parameters:\n",
    "        t (int): The step index for which the round constant is generated.\n",
    "    \n",
    "    Returns:\n",
    "        int: A single bit (0 or 1) representing the round constant for the given step index.\n",
    "    \"\"\"\n",
    "    if t % 255 == 0:\n",
    "        return 1\n",
    "    R = [1] + [0]*7\n",
    "    for i in range(1, t % 255):\n",
    "        R = [0] + R\n",
    "        R[0] = R[0] ^ R[8]\n",
    "        R[4] = R[4] ^ R[8]\n",
    "        R[5] = R[5] ^ R[8]\n",
    "        R[6] = R[6] ^ R[8]\n",
    "        R = R[:-1]\n",
    "    return R[0]\n",
    "\n",
    "def iota(A, ir):\n",
    "    \"\"\"\n",
    "    Performs the Iota step of the Keccak permutation.\n",
    "\n",
    "    The Iota step is the final step in one round of the Keccak permutation. It modifies the state\n",
    "    by XORing it with a round constant. The round constants are derived from the output of the\n",
    "    `rc` function, which depends on the round index.\n",
    "\n",
    "    Parameters:\n",
    "        A (numpy.ndarray): The current state of the Keccak algorithm, a 5x5x64 array of bits.\n",
    "        ir (int): The round index, used to compute the round constant.\n",
    "    \n",
    "    Returns:\n",
    "        numpy.ndarray: The updated state array after applying the Iota step.\n",
    "    \"\"\"\n",
    "    w = 64  # Word size for Keccak-f[1600]\n",
    "    l = int(log2(w))\n",
    "    RC = [0] * w\n",
    "    \n",
    "    # Compute RC\n",
    "    for j in range(l + 1):\n",
    "        RC[(1 << j) - 1] = rc(j + 7*ir)\n",
    "    \n",
    "    # Modify A[0, 0, z] by XORing with RC[z]\n",
    "    A_prime = np.copy(A)\n",
    "    for z in range(w):\n",
    "        A_prime[0, 0, z] ^= RC[z]\n",
    "    \n",
    "    return A_prime\n",
    "    "
   ]
  },
  {
   "cell_type": "markdown",
   "id": "57bdcded-fc89-4f37-b86c-8f03af44c4ec",
   "metadata": {},
   "source": [
    "## KECCAK-p[b, nr]"
   ]
  },
  {
   "cell_type": "code",
   "execution_count": 63,
   "id": "df829131-46d4-436f-a8b5-d9909f656f54",
   "metadata": {},
   "outputs": [
    {
     "name": "stdout",
     "output_type": "stream",
     "text": [
      "State A[0, 0, :] (first 64 bits): [1 0 1 0 1 0 1 0 1 0 1 0 1 0 1 0 1 0 1 0 1 0 1 0 1 0 1 0 1 0 1 0 1 0 1 0 1\n",
      " 0 1 0 1 0 1 0 1 0 1 0 1 0 1 0 1 0 1 0 1 0 1 0 1 0 1 0]\n"
     ]
    }
   ],
   "source": [
    "def string_to_state_array(S):\n",
    "    \"\"\"\n",
    "    Converts a bit string S into the state array A for the Keccak algorithm.\n",
    "\n",
    "    This function transforms a list of bits representing the input message or data into\n",
    "    the internal state format used by the Keccak hash function. The Keccak state consists\n",
    "    of a 5x5 array of 64-bit words, totaling 1600 bits.\n",
    "\n",
    "    Parameters:\n",
    "        S (list): A list of bits (0s and 1s) with a length of b = 1600, representing the input data.\n",
    "    \n",
    "    Returns:\n",
    "        numpy.ndarray: A three-dimensional state array A of shape (5, 5, 64), corresponding to the Keccak state.\n",
    "    \"\"\"\n",
    "    # Dimensions of the state array\n",
    "    w = 64  # word size\n",
    "    depth = w\n",
    "    rows, cols = 5, 5  # dimensions of the state array\n",
    "    \n",
    "    # Initialize the state array\n",
    "    A = np.zeros((rows, cols, depth), dtype=np.uint8)\n",
    "    \n",
    "    # Convert S into A\n",
    "    for x in range(5):\n",
    "        for y in range(5):\n",
    "            for z in range(w):\n",
    "                # Calculate the bit index for the flat list and map it to the 3D state array\n",
    "                bit_index = w * (5 * y + x) + z\n",
    "                A[x, y, z] = S[bit_index]\n",
    "    \n",
    "    return A\n",
    "\n",
    "# Example usage:\n",
    "# Generate an example bit string S as a list of 1600 alternating zeros and ones\n",
    "S_example = [1 if i % 2 == 0 else 0 for i in range(1600)]\n",
    "A_example = string_to_state_array(S_example)\n",
    "\n",
    "print(\"State A[0, 0, :] (first 64 bits):\", A_example[0, 0, :])\n"
   ]
  },
  {
   "cell_type": "code",
   "execution_count": 64,
   "id": "37a25a1f-49d4-4f8d-8e64-267bdc4814a9",
   "metadata": {},
   "outputs": [],
   "source": [
    "def Rnd(A, ir):\n",
    "    \"\"\"\n",
    "    Performs a single round of the Keccak transformation on the given state A with the round index ir.\n",
    "\n",
    "    This function sequentially applies all the five step mappings (theta, rho, pi, chi, iota) that constitute\n",
    "    a single round of the Keccak permutation. These transformations progressively mix and permute the bits\n",
    "    in the state array to produce a new state that is computationally indistinguishable from random to someone\n",
    "    who doesn't know the input.\n",
    "\n",
    "    Parameters:\n",
    "        A (numpy.ndarray): The current state of the Keccak algorithm, represented as a three-dimensional NumPy array.\n",
    "        ir (int): The index of the current round, used in the iota (ι) step to introduce round-dependent variability.\n",
    "    \n",
    "    Returns:\n",
    "        numpy.ndarray: The updated state array after applying one round of the Keccak transformation.\n",
    "    \"\"\"\n",
    "    A = theta(A)\n",
    "    A = rho(A)\n",
    "    A = pi(A)\n",
    "    A = chi(A)\n",
    "    A = iota(A, ir)\n",
    "    \n",
    "    return A\n"
   ]
  },
  {
   "cell_type": "code",
   "execution_count": 65,
   "id": "86bb22fc-8c1c-4834-ae60-26ef6511e1d6",
   "metadata": {},
   "outputs": [
    {
     "name": "stdout",
     "output_type": "stream",
     "text": [
      "First 100 bits of S: [0, 1, 1, 1, 1, 1, 1, 1, 0, 0, 1, 0, 1, 1, 0, 0, 1, 1, 1, 0, 1, 1, 1, 1, 0, 1, 0, 1, 1, 0, 1, 1, 0, 0, 1, 0, 0, 0, 0, 1, 0, 0, 0, 0, 1, 0, 1, 0, 1, 1, 0, 0, 1, 0, 0, 0, 0, 0, 0, 1, 1, 0, 1, 0, 1, 1, 1, 1, 0, 1, 0, 0, 0, 0, 1, 0, 0, 1, 1, 0, 1, 0, 0, 1, 0, 0, 0, 1, 1, 0, 0, 0, 1, 1, 1, 1, 0, 1, 0, 1]\n"
     ]
    }
   ],
   "source": [
    "def state_array_to_string(A):\n",
    "    \"\"\"\n",
    "    Converts the state array A into a bit string S.\n",
    "\n",
    "    This function maps the three-dimensional state array used in the Keccak algorithm\n",
    "    back into a linear list of bits. This is particularly useful for extracting the \n",
    "    hash value after the final state has been computed, or for any intermediate steps\n",
    "    that require the state to be analyzed or output in a linear format.\n",
    "\n",
    "    Parameters:\n",
    "        A (numpy.ndarray): The three-dimensional state array (e.g., in NumPy format) representing the Keccak state.\n",
    "    \n",
    "    Returns:\n",
    "        list: The bit string S as a list of bits.\n",
    "    \"\"\"\n",
    "    w = 64  # Word size in Keccak-f[1600]\n",
    "    S = []\n",
    "    \n",
    "    # Iterate through the state array as per the specification\n",
    "    for y in range(5):\n",
    "        for x in range(5):\n",
    "            for z in range(w):\n",
    "                # Extract each bit and append to the list S\n",
    "                bit = A[x, y, z]\n",
    "                S.append(bit)\n",
    "    \n",
    "    return S\n",
    "\n",
    "# Example usage:\n",
    "A_example = np.random.randint(2, size=(5, 5, 64), dtype=np.uint8)\n",
    "S_converted = state_array_to_string(A_example)\n",
    "\n",
    "print(\"First 100 bits of S:\", S_converted[:100])\n"
   ]
  },
  {
   "cell_type": "code",
   "execution_count": 66,
   "id": "77676dfe-ffa5-4966-9554-184c7caf214f",
   "metadata": {},
   "outputs": [
    {
     "name": "stdout",
     "output_type": "stream",
     "text": [
      "Length of S_prime: 1600\n",
      "First 100 bits of S_prime: [1, 0, 0, 0, 0, 0, 0, 0, 0, 1, 1, 0, 1, 0, 1, 1, 1, 1, 1, 0, 0, 1, 1, 0, 1, 0, 0, 1, 0, 0, 0, 0, 1, 0, 1, 0, 1, 1, 0, 0, 0, 1, 1, 0, 1, 1, 1, 0, 1, 1, 0, 0, 1, 1, 1, 1, 0, 1, 1, 0, 1, 0, 1, 1, 1, 0, 0, 0, 0, 1, 0, 0, 0, 0, 0, 1, 0, 1, 0, 1, 1, 0, 1, 1, 0, 0, 0, 1, 1, 0, 1, 0, 1, 1, 1, 1, 0, 0, 1, 0]\n"
     ]
    }
   ],
   "source": [
    "def KECCAK_p(S, nr=24):\n",
    "    \"\"\"\n",
    "    Executes the full KECCAK-p permutation for the Keccak algorithm.\n",
    "\n",
    "    This function applies the complete permutation process of the Keccak algorithm, \n",
    "    which involves converting the input bit string into the state array, performing \n",
    "    a specified number of permutation rounds, and then converting the final state array \n",
    "    back into a bit string.\n",
    "\n",
    "    Parameters:\n",
    "        S (list): The input bit string as a list of bits with a length of b = 1600.\n",
    "        nr (int): The number of permutation rounds.\n",
    "    \n",
    "    Returns:\n",
    "        list: The output bit string S′ as a list of bits with a length of b.\n",
    "    \"\"\"\n",
    "    # Step 1: Convert S into the state array A\n",
    "    A = string_to_state_array(S)\n",
    "    \n",
    "    # Step 2: Perform the permutation rounds\n",
    "    for ir in range(nr):\n",
    "        A = Rnd(A, ir)\n",
    "    \n",
    "    # Step 3: Convert A back into the output bit string S′\n",
    "    S_prime = state_array_to_string(A)\n",
    "    \n",
    "    return S_prime\n",
    "\n",
    "# Example usage:\n",
    "S_example = np.random.randint(2, size=1600).tolist()\n",
    "S_prime_example = KECCAK_p(S_example, nr=24)\n",
    "\n",
    "print(\"Length of S_prime:\", len(S_prime_example))\n",
    "print(\"First 100 bits of S_prime:\", S_prime_example[:100])\n"
   ]
  },
  {
   "cell_type": "markdown",
   "id": "5715b83e-13cc-43ee-b59a-a935c30ef21f",
   "metadata": {},
   "source": [
    "## Sponge construction"
   ]
  },
  {
   "cell_type": "code",
   "execution_count": 67,
   "id": "c1c1b5de-2754-4b04-b05b-643c84f6b387",
   "metadata": {},
   "outputs": [
    {
     "name": "stdout",
     "output_type": "stream",
     "text": [
      "Output of the SPONGE function (first 64 bits): [1, 0, 0, 0, 1, 1, 1, 1, 0, 0, 0, 0, 1, 0, 0, 0, 0, 1, 1, 1, 0, 0, 0, 0, 0, 0, 0, 0, 1, 0, 0, 0, 1, 1, 1, 1, 1, 1, 1, 0, 1, 0, 0, 1, 1, 0, 0, 1, 0, 0, 0, 1, 0, 0, 0, 1, 0, 1, 0, 0, 0, 1, 0, 0]\n",
      "Length of the output string: 256\n"
     ]
    }
   ],
   "source": [
    "def SPONGE(f, pad, r, N, d):\n",
    "    \"\"\"\n",
    "    Implements the sponge function for the Keccak algorithm.\n",
    "\n",
    "    The sponge function absorbs the input bit string into the state, processes it through\n",
    "    the permutation function, and then squeezes out the output bit string of desired length.\n",
    "\n",
    "    Parameters:\n",
    "        f (function): The permutation function.\n",
    "        pad (function): The padding function.\n",
    "        r (int): The bitrate, which determines the amount of data processed in each permutation round.\n",
    "        N (list): The input bit string as a list of bits.\n",
    "        d (int): The desired length of the output bit string Z.\n",
    "    \n",
    "    Returns:\n",
    "        list: The output bit string Z of length d.\n",
    "    \"\"\"\n",
    "    # Step 1: Pad the input string\n",
    "    P = N + pad(r, len(N))\n",
    "    \n",
    "    # Step 2: Calculate the number of blocks\n",
    "    n = len(P) // r\n",
    "    \n",
    "    # Step 3: Calculate c = b - r\n",
    "    c = 1600 - r  # For Keccak, b = 1600\n",
    "    \n",
    "    # Step 4: Split P into blocks P0, …, Pn-1\n",
    "    blocks = [P[i*r:(i+1)*r] for i in range(n)]\n",
    "    \n",
    "    # Step 5: Initialize the state S\n",
    "    S = [0] * 1600\n",
    "    \n",
    "    # Step 6: Absorption phase\n",
    "    for Pi in blocks:\n",
    "        S = list(map(lambda x, y: x ^ y, S[:r] + [0]*c, Pi + [0]*c))\n",
    "        S = f(S)\n",
    "    \n",
    "    # Step 7 and 8: Initialize Z and squeeze the first block\n",
    "    Z = []\n",
    "    Z.extend(S[:r])\n",
    "    \n",
    "    # Step 9 and 10: Continue squeezing until reaching the desired length d\n",
    "    while len(Z) < d:\n",
    "        S = f(S)\n",
    "        Z.extend(S[:r])\n",
    "    \n",
    "    return Z[:d]\n",
    "\n",
    "# Example usage\n",
    "N = [1] * 1024  # Example input string N as a list of 1024 bits set to 1\n",
    "d = 256  # Desired length of the output bit string\n",
    "r = 1088  # Bitrate for SHA3-256\n",
    "\n",
    "# Call the SPONGE function\n",
    "Z = SPONGE(KECCAK_p, pad10star1_binary, r, N, d)\n",
    "print(\"Output of the SPONGE function (first 64 bits):\", Z[:64])\n",
    "print(\"Length of the output string:\", len(Z))\n"
   ]
  },
  {
   "cell_type": "markdown",
   "id": "d290978f-1be9-4e63-ad82-475787976b4b",
   "metadata": {},
   "source": [
    "## Auxilary functions"
   ]
  },
  {
   "cell_type": "code",
   "execution_count": 68,
   "id": "255e8213-54a0-400b-8cc3-306fae6e7c14",
   "metadata": {},
   "outputs": [],
   "source": [
    "def text_to_bits(text, encoding='utf-8'):\n",
    "    \"\"\"\n",
    "    Converts text into a list of bits.\n",
    "\n",
    "    Parameters:\n",
    "        text (str): The text to be converted.\n",
    "        encoding (str): The encoding used to convert the text into bytes. Defaults to 'utf-8'.\n",
    "    \n",
    "    Returns:\n",
    "        list: A list of bits (0s and 1s) representing the text.\n",
    "    \"\"\"\n",
    "    bits = []\n",
    "    byte_array = text.encode(encoding)\n",
    "    for byte in byte_array:\n",
    "        bits.extend([int(bit) for bit in format(byte, '08b')])\n",
    "    return bits\n",
    "\n",
    "def bits_to_bytes(bits):\n",
    "    \"\"\"\n",
    "    Converts a list of bits into a byte array.\n",
    "\n",
    "    Parameters:\n",
    "        bits (list): A list of bits (0s and 1s).\n",
    "    \n",
    "    Returns:\n",
    "        bytes: A byte array corresponding to the list of bits.\n",
    "    \"\"\"\n",
    "    bytes_list = [int(''.join(map(str, bits[i:i+8])), 2) for i in range(0, len(bits), 8)]\n",
    "    return bytes(bytes_list)\n",
    "\n",
    "def bytes_to_hex(byte_array):\n",
    "    \"\"\"\n",
    "    Converts a byte array into a hexadecimal string.\n",
    "\n",
    "    Parameters:\n",
    "        byte_array (bytes): The byte array to be converted.\n",
    "    \n",
    "    Returns:\n",
    "        str: A hexadecimal string representing the byte array.\n",
    "    \"\"\"\n",
    "    return byte_array.hex()\n"
   ]
  },
  {
   "cell_type": "markdown",
   "id": "c1f1c768-6eed-4fa3-bd1c-902441d71f06",
   "metadata": {},
   "source": [
    "## Keccak-256"
   ]
  },
  {
   "cell_type": "code",
   "execution_count": 69,
   "id": "e7eae13c-3ba3-4225-8271-39f62306db61",
   "metadata": {},
   "outputs": [
    {
     "name": "stdout",
     "output_type": "stream",
     "text": [
      "SHA3-256 hash: c27fed99271e7ab49a2a0d916b29d5bde21d9f80db7e194d36094ab7c5a454db\n"
     ]
    }
   ],
   "source": [
    "def KECCAK_256(N):\n",
    "    \"\"\"\n",
    "    Generates a SHA3-256 hash for the given input string N.\n",
    "    \n",
    "    This function takes an input bit string and processes it through the Keccak sponge construction\n",
    "    to produce a SHA3-256 hash. The sponge construction involves padding the input, absorbing it into\n",
    "    the Keccak state, and then squeezing out the hash value.\n",
    "\n",
    "    Parameters:\n",
    "        N (list): The input bit string as a list of bits.\n",
    "    \n",
    "    Returns:\n",
    "        str: The SHA3-256 hash as a hexadecimal string.\n",
    "    \"\"\"\n",
    "    b = 1600  # Total state length for Keccak\n",
    "    c = 512   # Capacity for SHA3-256\n",
    "    r = b - c  # Bitrate for SHA3-256\n",
    "    d = 256   # Hash length for SHA3-256 in bits\n",
    "\n",
    "    # Apply the sponge construction to get the hash bits\n",
    "    hash_bits = SPONGE(KECCAK_p, pad10star1_binary, r, N, d)\n",
    "    # Convert the hash bits to a hexadecimal string\n",
    "    hash_hex = bytes_to_hex(bits_to_bytes(hash_bits))\n",
    "    return hash_hex\n",
    "\n",
    "# Example usage\n",
    "text = \"some\"\n",
    "# Convert the text to bits\n",
    "N = text_to_bits(text)\n",
    "\n",
    "# Generate the SHA3-256 hash\n",
    "hash_256 = KECCAK_256(N)\n",
    "print(\"SHA3-256 hash:\", hash_256)\n"
   ]
  },
  {
   "cell_type": "markdown",
   "id": "7da80dfa-bbd5-462c-aae0-d37cc2d67e6a",
   "metadata": {},
   "source": [
    "## Check correctness"
   ]
  },
  {
   "cell_type": "code",
   "execution_count": 70,
   "id": "860946d0-209e-41b7-b941-65325d832af0",
   "metadata": {},
   "outputs": [
    {
     "name": "stdout",
     "output_type": "stream",
     "text": [
      "Keccak-256 hash: 7b080823f92e02130bdea91bd0f85eb8503b4b15f36a4a89f1698d087106eca9\n"
     ]
    }
   ],
   "source": [
    "import hashlib\n",
    "\n",
    "def keccak_256_hash(text):\n",
    "    # Konwersja tekstu na bajty\n",
    "    text_bytes = text.encode('utf-8')\n",
    "    \n",
    "    # Użycie hashlib do wygenerowania skrótu Keccak-256\n",
    "    hash_obj = hashlib.new('sha3_256', text_bytes)\n",
    "    hash_hex = hash_obj.hexdigest()\n",
    "    \n",
    "    return hash_hex\n",
    "\n",
    "# Przykład użycia\n",
    "text = \"some\"\n",
    "hash_result = keccak_256_hash(text)\n",
    "print(\"Keccak-256 hash:\", hash_result)"
   ]
  }
 ],
 "metadata": {
  "kernelspec": {
   "display_name": "Python 3 (ipykernel)",
   "language": "python",
   "name": "python3"
  },
  "language_info": {
   "codemirror_mode": {
    "name": "ipython",
    "version": 3
   },
   "file_extension": ".py",
   "mimetype": "text/x-python",
   "name": "python",
   "nbconvert_exporter": "python",
   "pygments_lexer": "ipython3",
   "version": "3.10.12"
  }
 },
 "nbformat": 4,
 "nbformat_minor": 5
}
